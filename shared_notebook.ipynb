{
 "cells": [
  {
   "cell_type": "markdown",
   "id": "cb397e89-2be6-4426-a3d9-0dde90fb4c14",
   "metadata": {},
   "source": [
    "# Our Shared Ideas"
   ]
  },
  {
   "cell_type": "markdown",
   "id": "667fc7ed-cccf-487d-834e-7adb853c374d",
   "metadata": {},
   "source": [
    "### Top 2 Names: Vito, PetPulse"
   ]
  },
  {
   "cell_type": "code",
   "execution_count": null,
   "id": "0bb98b68-1150-4603-aa7c-8c39d68c2419",
   "metadata": {},
   "outputs": [],
   "source": []
  }
 ],
 "metadata": {
  "kernelspec": {
   "display_name": "Python 3-12 (COMM4190)",
   "language": "python",
   "name": "python3-12_comm4190"
  },
  "language_info": {
   "codemirror_mode": {
    "name": "ipython",
    "version": 3
   },
   "file_extension": ".py",
   "mimetype": "text/x-python",
   "name": "python",
   "nbconvert_exporter": "python",
   "pygments_lexer": "ipython3",
   "version": "3.12.11"
  }
 },
 "nbformat": 4,
 "nbformat_minor": 5
}
