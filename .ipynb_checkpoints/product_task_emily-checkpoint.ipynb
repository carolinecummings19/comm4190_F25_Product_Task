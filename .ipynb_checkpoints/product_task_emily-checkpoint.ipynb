{
 "cells": [
  {
   "cell_type": "markdown",
   "id": "c46bde7e-e749-449f-ac63-9509842f3882",
   "metadata": {},
   "source": [
    "# Setup"
   ]
  },
  {
   "cell_type": "code",
   "execution_count": 1,
   "id": "21823ca8-c3ff-4afc-b63d-834501fd7e64",
   "metadata": {},
   "outputs": [],
   "source": [
    "from openai import OpenAI\n",
    "import os\n",
    "import base64\n",
    "import requests\n",
    "\n",
    "from dotenv import load_dotenv\n",
    "# Load API key\n",
    "_ = load_dotenv()"
   ]
  },
  {
   "cell_type": "code",
   "execution_count": 2,
   "id": "2011705b-72d3-45b9-8e80-7e1e91d0581a",
   "metadata": {},
   "outputs": [],
   "source": [
    "def encode_image(image_path):\n",
    "  with open(image_path, \"rb\") as image_file:\n",
    "    return base64.b64encode(image_file.read()).decode('utf-8')"
   ]
  },
  {
   "cell_type": "code",
   "execution_count": 3,
   "id": "b99dce80-8da3-4654-9813-327651b80034",
   "metadata": {},
   "outputs": [],
   "source": [
    "client = OpenAI()"
   ]
  },
  {
   "cell_type": "markdown",
   "id": "87a06e83-07f9-4b74-b610-8b1c13da86ee",
   "metadata": {},
   "source": [
    "### Product Description"
   ]
  },
  {
   "cell_type": "code",
   "execution_count": 13,
   "id": "f56b5cb1-f74e-496c-84a8-c5cc25dfb1d9",
   "metadata": {},
   "outputs": [],
   "source": [
    "prompt = '''\n",
    "\n",
    "Brainstorm a list of product descriptions for a dog collar that provides all health information about the dog. \n",
    "Like an oura ring but for dogs.\n",
    "\n",
    "Return the results as one paragraphs, in this format:\n",
    "Product description: example 1\n",
    "\n",
    "## Examples:\n",
    "Product description: The ChillMix Home Milkshake Maker brings the joy of the classic soda fountain right to your kitchen. With a sleek retro design and a powerful dual-speed motor, it whips up thick, creamy milkshakes, smoothies, and malts in minutes. \n",
    "The durable 16oz stainless-steel mixing cup is both dishwasher-safe and quick-chilling, making cleanup simple and every sip refreshingly cold. \n",
    "Compact enough for dorm rooms or small kitchens yet versatile enough for family use, it’s perfect for everything from nostalgic dessert nights to quick post-workout shakes. \n",
    "With the ChillMix, indulgence is always just a blend away.\n",
    "\n",
    "'''"
   ]
  },
  {
   "cell_type": "code",
   "execution_count": 14,
   "id": "a1956e8e-6c8b-4300-ac8d-a5573fc6e6fe",
   "metadata": {},
   "outputs": [],
   "source": [
    "messages=[\n",
    "            {\n",
    "                \"role\": \"system\",\n",
    "                \"content\": \"You are a helpful assistant.\"\n",
    "            },\n",
    "            {\n",
    "                \"role\": \"user\",\n",
    "                \"content\": prompt\n",
    "            }\n",
    "        ]"
   ]
  },
  {
   "cell_type": "code",
   "execution_count": 15,
   "id": "24f3403f-91c8-49de-81d5-ac265e2256c0",
   "metadata": {},
   "outputs": [],
   "source": [
    "completion = client.chat.completions.create(\n",
    "  model=\"gpt-4o\",\n",
    "  messages=messages\n",
    ")\n",
    "\n",
    "response = completion.choices[0].message.content"
   ]
  },
  {
   "cell_type": "code",
   "execution_count": 16,
   "id": "9cde50f9-985c-45bd-993a-feeee47044f3",
   "metadata": {},
   "outputs": [
    {
     "name": "stdout",
     "output_type": "stream",
     "text": [
      "Product description: Introducing the SmartWoof Health Collar, a cutting-edge accessory that transforms your dog’s daily routine into a comprehensive health monitoring experience. This innovative collar is crafted with soft, hypoallergenic materials to ensure the utmost comfort while housing a suite of advanced sensors that track vital health metrics such as heart rate, activity level, sleep patterns, and even hydration status. The SmartWoof syncs seamlessly with a dedicated mobile app, providing real-time health updates and personalized wellness tips designed to keep your furry friend in peak condition. Perfect for health-conscious pet owners, it offers customizable alerts that notify you of any deviations in your dog's health, allowing for early intervention and peace of mind. Sleek and waterproof, this collar is suitable for dogs of all sizes and breeds, making it the ideal blend of technology and pet care. Give your dog the gift of health and yourself the gift of reassurance with the SmartWoof Health Collar.\n"
     ]
    }
   ],
   "source": [
    "print(response)"
   ]
  },
  {
   "cell_type": "code",
   "execution_count": 17,
   "id": "39243993-9394-49b9-8fa4-bcd30abbf1b3",
   "metadata": {},
   "outputs": [
    {
     "name": "stdout",
     "output_type": "stream",
     "text": [
      "\n",
      "--- 1 of 4 ---\n",
      "Product description: Introducing the PupPulse Health Collar, a revolutionary smart collar that keeps you informed about your dog's health and wellbeing around the clock. Designed with advanced sensors, it tracks heart rate, activity level, sleep patterns, and more, providing you with real-time data via a user-friendly mobile app. The PupPulse Health Collar is crafted from durable, water-resistant materials and comes in various adjustable sizes and colors, ensuring a comfortable fit for any breed. Not only does it promote your peace of mind, but it also alerts you to potential health anomalies with precision, enabling early intervention. Whether it's for high-energy playtime or restful napping, know you're doing the best for your furry friend with the PupPulse Health Collar, the ultimate fusion of care and technology in pet health monitoring.\n",
      "\n",
      "--- 2 of 4 ---\n",
      "Product description: Introducing the PawPulse Health Collar, the revolutionary smart collar built to keep your furry friend’s well-being in check 24/7. This cutting-edge device functions like an Oura ring, but tailored for dogs, providing real-time health insights through advanced sensors that monitor heart rate, activity levels, sleep patterns, and temperature. Its ergonomic design ensures comfort, while the water-resistant exterior makes it ideal for any adventure, rain or shine. Sync seamlessly with the PawPulse app on your smartphone to receive health alerts, track exercise goals, and consult data making vet visits more informed. The vibrant LED strip offers visibility during night walks, enhancing safety and offering peace of mind. Perfect for dog lovers invested in their pets’ health, the PawPulse Health Collar is not just a gadget; it’s a companion for a healthier, happier life.\n",
      "\n",
      "--- 3 of 4 ---\n",
      "Product description: Introducing the HealthBark Smart Dog Collar, the ultimate health-tracking device for your furry friend. This innovative collar combines comfort and technology, seamlessly providing real-time updates on your pet’s activity levels, heart rate, sleep patterns, and overall wellness. Crafted from durable, water-resistant materials, it ensures safety and longevity even during the most adventurous play times. Designed with your dog’s comfort in mind, the lightweight collar is adjustable to fit any size, promising a snug yet gentle fit. With its intuitive companion app, gain insights into your dog’s health, set fitness goals, or share data with your veterinarian for proactive care. It’s more than a collar—it’s peace of mind, knowing your best friend is happy and healthy every tail-wagging moment.\n",
      "\n",
      "--- 4 of 4 ---\n",
      "Product description: The PupPulse Health Collar is the ultimate health monitoring device for your four-legged friend, offering pet owners peace of mind while prioritizing canine well-being. Equipped with advanced sensors that track your dog's heart rate, activity levels, and even sleep patterns, this innovative collar provides real-time health insights right to your smartphone. Its sleek, lightweight design ensures comfort without compromising on style, and the durable materials make it suitable for active adventures or cozy indoor days. With the PupPulse Health Collar, you can stay informed about your pet's fitness and health trends, schedule vet check-ups based on data, and track daily exercise goals, ensuring a longer, happier life for your furry companion. It’s more than just a collar; it’s a commitment to your dog’s holistic health.\n"
     ]
    }
   ],
   "source": [
    "num_of_repeats = 4\n",
    "\n",
    "responses = []\n",
    "\n",
    "for qcnt, query in enumerate(range(num_of_repeats),1):\n",
    "    completion = client.chat.completions.create(\n",
    "      model=\"gpt-4o\",\n",
    "      messages=messages\n",
    "    )\n",
    "\n",
    "    response = completion.choices[0].message.content\n",
    "\n",
    "    responses.append(response)\n",
    "\n",
    "    print(f'\\n--- {qcnt} of {num_of_repeats} ---\\n{response}')"
   ]
  },
  {
   "cell_type": "markdown",
   "id": "c01b7459-a65f-4f77-8068-ccdf9ba2140b",
   "metadata": {},
   "source": [
    "### Product Name"
   ]
  },
  {
   "cell_type": "code",
   "execution_count": 18,
   "id": "7edc43e9-dda0-4375-9a69-5666e568f6a2",
   "metadata": {},
   "outputs": [],
   "source": [
    "prompt2 = '''\n",
    "\n",
    "Brainstorm a list of product names for a dog collar that provides all health information about the dog. \n",
    "Like an oura ring but for dogs.\n",
    "\n",
    "Return the results as a comma-separated list, in this format:\n",
    "Product description: a dog's personal health companion\n",
    "Product names: [list of 3 product names]\n",
    "\n",
    "## Examples:\n",
    "Product description: A home milkshake maker.\n",
    "Product names: Fast Panda, Healthy Bear, Compact Koala\n",
    "\n",
    "Product description: A watch that can tell accurate time in\n",
    "space.\n",
    "Product names: AstroLamb, Space Bear, Eagle Orbit\n",
    "\n",
    "Product description: A refrigerator that dispenses beer\n",
    "Product names: BearFridge, Cool Cat, PenguinBox\n",
    "\n",
    "'''"
   ]
  },
  {
   "cell_type": "code",
   "execution_count": 19,
   "id": "a617416f-bcad-44b1-9446-a70c9c17fc02",
   "metadata": {},
   "outputs": [],
   "source": [
    "messages2=[\n",
    "            {\n",
    "                \"role\": \"system\",\n",
    "                \"content\": \"You are a helpful assistant.\"\n",
    "            },\n",
    "            {\n",
    "                \"role\": \"user\",\n",
    "                \"content\": prompt2\n",
    "            }\n",
    "        ]"
   ]
  },
  {
   "cell_type": "code",
   "execution_count": 20,
   "id": "78825f4f-9e7e-4240-a05c-84c60f511e67",
   "metadata": {},
   "outputs": [
    {
     "name": "stdout",
     "output_type": "stream",
     "text": [
      "\n",
      "--- 1 of 4 ---\n",
      "Product description: a dog's personal health companion  \n",
      "Product names: PawsPulse, HealthHound, CanineVital\n",
      "\n",
      "--- 2 of 4 ---\n",
      "Product description: a dog's personal health companion  \n",
      "Product names: CanineVital, HealthHound, PoochPulse\n",
      "\n",
      "--- 3 of 4 ---\n",
      "Product description: a dog's personal health companion  \n",
      "Product names: Pawsitive Health, PupPulse, CanineVitals\n",
      "\n",
      "--- 4 of 4 ---\n",
      "Product description: A dog's personal health companion  \n",
      "Product names: Pawsitive Tracker, Canine Pulse, PupHealth Link\n"
     ]
    }
   ],
   "source": [
    "num_of_repeats = 4\n",
    "\n",
    "responses = []\n",
    "\n",
    "for qcnt, query in enumerate(range(num_of_repeats),1):\n",
    "    completion = client.chat.completions.create(\n",
    "      model=\"gpt-4o\",\n",
    "      messages=messages2\n",
    "    )\n",
    "\n",
    "    response = completion.choices[0].message.content\n",
    "\n",
    "    responses.append(response)\n",
    "\n",
    "    print(f'\\n--- {qcnt} of {num_of_repeats} ---\\n{response}')"
   ]
  },
  {
   "cell_type": "markdown",
   "id": "8d8ae57e-0fdf-4d38-9830-5251dadd2a31",
   "metadata": {},
   "source": [
    "### Slogan"
   ]
  },
  {
   "cell_type": "code",
   "execution_count": 32,
   "id": "9f315462-4910-4386-b537-af69badc4faa",
   "metadata": {},
   "outputs": [],
   "source": [
    "prompt3 = '''\n",
    "\n",
    "Brainstorm a list of product slogans for a dog collar that provides all health information about the dog. \n",
    "Like an oura ring but for dogs.\n",
    "\n",
    "Return the results in this format, generate two options:\n",
    "Product Name: example name\n",
    "Product Slogan: example slogan\n",
    "\n",
    "## Examples:\n",
    "Product Name: ShakeMate\n",
    "Slogan: Creamy treats, made easy.\n",
    "\n",
    "Product Name: FrostWhirl\n",
    "Slogan: Blend joy into every sip.\n",
    "\n",
    "'''"
   ]
  },
  {
   "cell_type": "code",
   "execution_count": 33,
   "id": "86f93625-7661-435e-ab40-e59bbd4ca5d3",
   "metadata": {},
   "outputs": [],
   "source": [
    "messages3=[\n",
    "            {\n",
    "                \"role\": \"system\",\n",
    "                \"content\": \"You are a helpful assistant.\"\n",
    "            },\n",
    "            {\n",
    "                \"role\": \"user\",\n",
    "                \"content\": prompt3\n",
    "            }\n",
    "        ]"
   ]
  },
  {
   "cell_type": "code",
   "execution_count": 34,
   "id": "70f3cba9-3f63-4228-bb17-069150fcd005",
   "metadata": {},
   "outputs": [
    {
     "name": "stdout",
     "output_type": "stream",
     "text": [
      "\n",
      "--- 1 of 6 ---\n",
      "Product Name: CanineVitals Collar  \n",
      "Product Slogan: Keep a Pulse on Your Pup's Health.  \n",
      "\n",
      "Product Name: HealthHound Collar  \n",
      "Product Slogan: Unleash the Wellness Within.  \n",
      "\n",
      "--- 2 of 6 ---\n",
      "Product Name: PupPulse\n",
      "Product Slogan: Track their health, one wag at a time.\n",
      "\n",
      "Product Name: CanineVitals\n",
      "Product Slogan: Your dog's health, in a collar.\n",
      "\n",
      "--- 3 of 6 ---\n",
      "Product Name: PawPulse\n",
      "Product Slogan: Tracking tails and tales of health.\n",
      "\n",
      "Product Name: BarkGuardian\n",
      "Product Slogan: Your dog's health, at a glance.\n",
      "\n",
      "--- 4 of 6 ---\n",
      "Product Name: PupPulse  \n",
      "Product Slogan: Track Health, Wag More.\n",
      "\n",
      "Product Name: K9Insight  \n",
      "Product Slogan: The Collar that Cares.\n",
      "\n",
      "--- 5 of 6 ---\n",
      "Product Name: HealthCollar\n",
      "Slogan: All your pup's health insights, right on their neck.\n",
      "\n",
      "Product Name: WagTrack\n",
      "Slogan: Your dog's health, tracked with every wag.\n",
      "\n",
      "--- 6 of 6 ---\n",
      "Product Name: PupPulse  \n",
      "Product Slogan: Monitor Your Dog's Health, Collar by Collar.\n",
      "\n",
      "Product Name: CanineVitals  \n",
      "Product Slogan: Track Every Wag, Protect Every Day.\n"
     ]
    }
   ],
   "source": [
    "num_of_repeats = 6\n",
    "\n",
    "responses = []\n",
    "\n",
    "for qcnt, query in enumerate(range(num_of_repeats),1):\n",
    "    completion = client.chat.completions.create(\n",
    "      model=\"gpt-4o\",\n",
    "      messages=messages3\n",
    "    )\n",
    "\n",
    "    response = completion.choices[0].message.content\n",
    "\n",
    "    responses.append(response)\n",
    "\n",
    "    print(f'\\n--- {qcnt} of {num_of_repeats} ---\\n{response}')"
   ]
  },
  {
   "cell_type": "markdown",
   "id": "409c10cd-03f0-4357-ad9a-afbfb99f9ebb",
   "metadata": {},
   "source": [
    "### Features"
   ]
  },
  {
   "cell_type": "code",
   "execution_count": 39,
   "id": "526f4dc7-820f-4ac1-8364-ad965fb30902",
   "metadata": {},
   "outputs": [],
   "source": [
    "prompt4 = '''\n",
    "\n",
    "Brainstorm a list of features for this product: Introducing the PupPulse Health Collar, a revolutionary smart collar that keeps you informed about your dog's health and wellbeing around the clock. Designed with advanced sensors, it tracks heart rate, activity level, sleep patterns, and more, providing you with real-time data via a user-friendly mobile app. The PupPulse Health Collar is crafted from durable, water-resistant materials and comes in various adjustable sizes and colors, ensuring a comfortable fit for any breed. Not only does it promote your peace of mind, but it also alerts you to potential health anomalies with precision, enabling early intervention. Whether it's for high-energy playtime or restful napping, know you're doing the best for your furry friend with the PupPulse Health Collar, the ultimate fusion of care and technology in pet health monitoring\n",
    "\n",
    "Return the results in this format. Give the five top features:\n",
    "Feature: example feature\n",
    "Brief Description: example description\n",
    "\n",
    "## Examples:\n",
    "Feature: Glow in the dark fabric\n",
    "Brief Description: Helps visibility at nigh\n",
    "\n",
    "'''"
   ]
  },
  {
   "cell_type": "code",
   "execution_count": 40,
   "id": "a36ac982-0903-4e26-a0bd-a52303a9624d",
   "metadata": {},
   "outputs": [],
   "source": [
    "messages4=[\n",
    "            {\n",
    "                \"role\": \"system\",\n",
    "                \"content\": \"You are a helpful assistant.\"\n",
    "            },\n",
    "            {\n",
    "                \"role\": \"user\",\n",
    "                \"content\": prompt4\n",
    "            }\n",
    "        ]"
   ]
  },
  {
   "cell_type": "code",
   "execution_count": 41,
   "id": "9098d1b1-1dc7-4286-be0d-80b96386cc84",
   "metadata": {},
   "outputs": [
    {
     "name": "stdout",
     "output_type": "stream",
     "text": [
      "\n",
      "--- 1 of 3 ---\n",
      "Feature: Advanced Heart Rate Monitoring\n",
      "Brief Description: Continuously tracks your dog's heart rate and alerts you to any irregularities, allowing for early detection of potential health issues.\n",
      "\n",
      "Feature: Activity Level Tracking\n",
      "Brief Description: Monitors your dog's activity levels throughout the day, from vigorous play to restful relaxation, helping you ensure they're getting the right amount of exercise.\n",
      "\n",
      "Feature: Sleep Pattern Analysis\n",
      "Brief Description: Analyzes your dog's sleep patterns to provide insights into their rest quality, helping you ensure they have a healthy sleep schedule.\n",
      "\n",
      "Feature: Real-Time Health Alerts\n",
      "Brief Description: Sends real-time notifications to your mobile app if any health anomalies or significant changes in your dog's condition are detected, enabling prompt attention.\n",
      "\n",
      "Feature: Durable, Water-Resistant Design\n",
      "Brief Description: Crafted from robust, water-resistant materials to withstand various weather conditions, ensuring long-lasting use and comfort for your pet.\n",
      "\n",
      "--- 2 of 3 ---\n",
      "Feature: Advanced Health Monitoring Sensors  \n",
      "Brief Description: Tracks your dog's heart rate, activity level, and sleep patterns in real-time to provide comprehensive health data.\n",
      "\n",
      "Feature: Real-Time Alerts  \n",
      "Brief Description: Sends instant notifications to your smartphone app about potential health anomalies, allowing for early intervention.\n",
      "\n",
      "Feature: Durable, Water-Resistant Design  \n",
      "Brief Description: Made from high-quality materials that withstand various weather conditions and activities, ensuring long-lasting use.\n",
      "\n",
      "Feature: Adjustable and Customizable Fit  \n",
      "Brief Description: Available in various sizes and colors, the collar can be adjusted for a perfect fit across different dog breeds and sizes.\n",
      "\n",
      "Feature: User-Friendly Mobile App  \n",
      "Brief Description: Connects seamlessly with a mobile app, offering an intuitive interface for viewing and analyzing your dog's health data.\n",
      "\n",
      "--- 3 of 3 ---\n",
      "Feature: Real-Time Health Monitoring  \n",
      "Brief Description: Provides continuous tracking of your dog's heart rate, activity levels, and sleep patterns, allowing you to monitor their health and wellbeing anytime through a connected mobile app.\n",
      "\n",
      "Feature: Health Alerts  \n",
      "Brief Description: Sends timely notifications to your phone about any detected anomalies in your dog's health, enabling early intervention and ensuring your pet receives prompt care.\n",
      "\n",
      "Feature: Adjustable Sizes and Colors  \n",
      "Brief Description: Offers a range of adjustable sizes and colors to ensure a comfortable and secure fit for dogs of any breed, while allowing pet owners to customize the look to their preference.\n",
      "\n",
      "Feature: Durable, Water-Resistant Design  \n",
      "Brief Description: Crafted from high-quality water-resistant materials, the collar is designed to withstand outdoor activities and various weather conditions, ensuring longevity and reliability.\n",
      "\n",
      "Feature: Advanced Sensor Technology  \n",
      "Brief Description: Equipped with state-of-the-art sensors for accurate and reliable data collection on your pet's health metrics, providing you with precise insights into their wellbeing.\n"
     ]
    }
   ],
   "source": [
    "num_of_repeats = 3\n",
    "\n",
    "responses = []\n",
    "\n",
    "for qcnt, query in enumerate(range(num_of_repeats),1):\n",
    "    completion = client.chat.completions.create(\n",
    "      model=\"gpt-4o\",\n",
    "      messages=messages4\n",
    "    )\n",
    "\n",
    "    response = completion.choices[0].message.content\n",
    "\n",
    "    responses.append(response)\n",
    "\n",
    "    print(f'\\n--- {qcnt} of {num_of_repeats} ---\\n{response}')"
   ]
  },
  {
   "cell_type": "code",
   "execution_count": null,
   "id": "da6e9fe0-e727-4d0d-aa93-235d986c77a9",
   "metadata": {},
   "outputs": [],
   "source": []
  }
 ],
 "metadata": {
  "kernelspec": {
   "display_name": "Python 3-12 (COMM4190)",
   "language": "python",
   "name": "python3-12_comm4190"
  },
  "language_info": {
   "codemirror_mode": {
    "name": "ipython",
    "version": 3
   },
   "file_extension": ".py",
   "mimetype": "text/x-python",
   "name": "python",
   "nbconvert_exporter": "python",
   "pygments_lexer": "ipython3",
   "version": "3.12.11"
  }
 },
 "nbformat": 4,
 "nbformat_minor": 5
}
